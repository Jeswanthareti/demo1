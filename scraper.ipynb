{
 "cells": [
  {
   "cell_type": "code",
   "execution_count": 17,
   "metadata": {},
   "outputs": [
    {
     "name": "stdout",
     "output_type": "stream",
     "text": [
      "Undergraduate programs https://www.uottawa.ca/study/this-is-uottawa/programs-suit-you\n",
      "Engineering https://www.uottawa.ca/faculty-engineering/undergraduate-studies/programs\n",
      "Data Saved in scraped_data.csv File !\n"
     ]
    }
   ],
   "source": [
    "from bs4 import BeautifulSoup as bs\n",
    "import requests as re\n",
    "import csv\n",
    "\n",
    "# main url\n",
    "url = 'https://www.uottawa.ca/en'\n",
    "\n",
    "\n",
    "def getData():\n",
    "    #for storing data\n",
    "    data = []\n",
    "    res = re.get(url)\n",
    "    if res.status_code == 200:\n",
    "        soup = bs(res.text,'html.parser')\n",
    "        main_program_course = soup.find('div', class_='menu-childs__tabpanels')\n",
    "        main_program_course_name = main_program_course.find('span',class_=[\"link--with-icon__content\",  \"link--with-icon__content--inline\",  \"headline\", \"headline--5\"]).text\n",
    "        main_program_course_link = main_program_course.findAll('a', class_=['link', 'link--dark-red', 'link--with-icon'])[2].get('href')\n",
    "        # print(main_program_course_name, main_program_course_link)\n",
    "    \n",
    "    res_1 = re.get(main_program_course_link)\n",
    "    if res_1.status_code == 200:\n",
    "        soup_1 = bs(res_1.text, 'html.parser')\n",
    "        program = soup_1.find('div', class_='two-column-link-list__wrapper').findAll('a', class_=['link', 'link--with-icon'])[2]\n",
    "        program_name = program.find('span').text\n",
    "        program_link = program.get('href')\n",
    "        # print(program_name, program_link)\n",
    "        res_new = re.get(program_link)\n",
    "        if res_new.status_code == 200:\n",
    "            s = bs(res_new.text, 'html.parser')\n",
    "            all_sub_programs = s.find('section', class_=['links-cols-nav container']).findAll('a', class_='link')\n",
    "            \n",
    "            sub_programs_details = {}\n",
    "            for sub_program in all_sub_programs:\n",
    "                sub_programs_details[sub_program.find('span').text] = sub_program.get('href')\n",
    "            for sub_program in sub_programs_details:\n",
    "                res_2 = re.get(sub_programs_details[sub_program])\n",
    "                if res_2.status_code == 200:\n",
    "                    s_1 = bs(res_2.text, 'html.parser')\n",
    "\n",
    "                    program_des = s_1.findAll('div', class_=['typo-bol-22', 'related-articles__item-text', 'el-full-height'])\n",
    "                    program_duration = program_des[0].text\n",
    "                    program_location = program_des[1].text\n",
    "                    program_des_text = s_1.findAll('div', class_=['field', 'field--name-field-pp__intro', 'field--type-entity-reference-revisions', 'field--label-hidden', 'field__items'])[3].text.strip()\n",
    "                    temp = [\n",
    "                        url, \n",
    "                        main_program_course_name,\n",
    "                        main_program_course_link,\n",
    "                        program_name,\n",
    "                        program_link,\n",
    "                        sub_program,\n",
    "                        sub_programs_details[sub_program],\n",
    "                        program_duration,\n",
    "                        program_location,\n",
    "                        program_des_text\n",
    "                    ]\n",
    "                    data.append(temp)\n",
    "    \n",
    "    #header of data\n",
    "    header = [\n",
    "        'Main URL',\n",
    "        'Main Program',\n",
    "        'Main Program Link',\n",
    "        'Under Graduation Program',\n",
    "        'Under Graduation Porgram Link',\n",
    "        'Course',\n",
    "        'Course Link',\n",
    "        'Course Duration',\n",
    "        'Course Location',\n",
    "        'Course Description'\n",
    "    ]\n",
    "    data.insert(0, header)\n",
    "    #convertion into a csv file\n",
    "    with open('scraped_data.csv', 'w') as f:\n",
    "        csv_writer = csv.writer(f)\n",
    "        # Write the CSV data to the file\n",
    "        csv_writer.writerows(data)\n",
    "    print('Data Saved in scraped_data.csv File !')\n",
    "\n",
    "if __name__ == '__main__':\n",
    "    getData()\n"
   ]
  },
  {
   "cell_type": "code",
   "execution_count": null,
   "metadata": {},
   "outputs": [],
   "source": []
  },
  {
   "cell_type": "code",
   "execution_count": null,
   "metadata": {},
   "outputs": [],
   "source": []
  }
 ],
 "metadata": {
  "kernelspec": {
   "display_name": "Python 3",
   "language": "python",
   "name": "python3"
  },
  "language_info": {
   "codemirror_mode": {
    "name": "ipython",
    "version": 3
   },
   "file_extension": ".py",
   "mimetype": "text/x-python",
   "name": "python",
   "nbconvert_exporter": "python",
   "pygments_lexer": "ipython3",
   "version": "3.11.0"
  }
 },
 "nbformat": 4,
 "nbformat_minor": 2
}
